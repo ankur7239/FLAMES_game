{
 "cells": [
  {
   "cell_type": "code",
   "execution_count": null,
   "id": "4b788231",
   "metadata": {},
   "outputs": [],
   "source": [
    "def remove_matching_letter(l1, l2):\n",
    "    for i in range(len(l1)):\n",
    "        for j in range(len(l2)):\n",
    "            if l1[i] == l2[j]:\n",
    "                c = l1[i]\n",
    "                l1.remove(c)\n",
    "                l2.remove(c)\n",
    "                l = l1 + [\"*\"] + l2\n",
    "                return [l, True]\n",
    "    l = l1 + [\"*\"] + l2\n",
    "    return [l, False]\n",
    "\n",
    "p1 = input(\"Enter first person name: \").lower().replace(\" \", \"\")\n",
    "p2 = input(\"Enter second person name: \").lower().replace(\" \", \"\")\n",
    "\n",
    "l1 = list(p1)\n",
    "l2 = list(p2)\n",
    "\n",
    "ret_list = remove_matching_letter(l1, l2)\n",
    "proceed = ret_list[1]\n",
    "\n",
    "while proceed:\n",
    "    ret_list = remove_matching_letter(l1, l2)\n",
    "    proceed = ret_list[1]\n",
    "    con_list = ret_list[0]\n",
    "    star_index = con_list.index(\"*\")\n",
    "    l1 = con_list[:star_index]\n",
    "    l2 = con_list[star_index + 1:]\n",
    "\n",
    "count = len(l1) + len(l2)\n",
    "result = ['Friends', 'Love', 'Affection', \"Marriage\", \"Enemy\", \"Siblings\"]\n",
    "\n",
    "while len(result) > 1:\n",
    "    split_index = (count % len(result)) - 1\n",
    "    if split_index >= 0:\n",
    "        result = result[split_index + 1:] + result[:split_index]\n",
    "    else:\n",
    "        result = result[:len(result) - 1]\n",
    "\n",
    "print(\"Relationship status:\", result[0])\n"
   ]
  }
 ],
 "metadata": {
  "kernelspec": {
   "display_name": "Python 3 (ipykernel)",
   "language": "python",
   "name": "python3"
  },
  "language_info": {
   "codemirror_mode": {
    "name": "ipython",
    "version": 3
   },
   "file_extension": ".py",
   "mimetype": "text/x-python",
   "name": "python",
   "nbconvert_exporter": "python",
   "pygments_lexer": "ipython3",
   "version": "3.11.5"
  }
 },
 "nbformat": 4,
 "nbformat_minor": 5
}
